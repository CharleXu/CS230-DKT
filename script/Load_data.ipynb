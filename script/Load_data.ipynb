{
 "cells": [
  {
   "cell_type": "code",
   "execution_count": 1,
   "metadata": {},
   "outputs": [],
   "source": [
    "import numpy as np\n",
    "import pandas as pd\n",
    "from load_data import *\n"
   ]
  },
  {
   "cell_type": "code",
   "execution_count": 2,
   "metadata": {},
   "outputs": [],
   "source": [
    "data = DataGenerator('skill_build_processed.csv', 16)\n",
    "data.split_data()"
   ]
  },
  {
   "cell_type": "code",
   "execution_count": 7,
   "metadata": {},
   "outputs": [
    {
     "name": "stdout",
     "output_type": "stream",
     "text": [
      "Train shape:(15278, 17, 131)\n",
      "Dev shape:(849, 17, 131)\n",
      "Test shape:(849, 17, 131)\n"
     ]
    }
   ],
   "source": [
    "print(f\"Train shape:{data.train_seq.shape}\")\n",
    "print(f\"Dev shape:{data.dev_seq.shape}\")\n",
    "print(f\"Test shape:{data.test_seq.shape}\")"
   ]
  },
  {
   "cell_type": "code",
   "execution_count": 8,
   "metadata": {},
   "outputs": [],
   "source": [
    "X_train = np.concatenate([data.train_seq[:, 0:16, :], data.train_seq[:, 1:, 1:124]], axis = 2)\n",
    "y_train = data.train_seq[:, 1:, [0]]\n",
    "X_dev = np.concatenate([data.dev_seq[:, 0:16, :], data.dev_seq[:, 1:, 1:124]], axis = 2)\n",
    "y_dev = data.dev_seq[:, 1:, [0]]\n",
    "X_test = np.concatenate([data.test_seq[:, 0:16, :], data.test_seq[:, 1:, 1:124]], axis = 2)\n",
    "y_test = data.test_seq[:, 1:, [0]]\n"
   ]
  }
 ],
 "metadata": {
  "kernelspec": {
   "display_name": "Python 3",
   "language": "python",
   "name": "python3"
  },
  "language_info": {
   "codemirror_mode": {
    "name": "ipython",
    "version": 3
   },
   "file_extension": ".py",
   "mimetype": "text/x-python",
   "name": "python",
   "nbconvert_exporter": "python",
   "pygments_lexer": "ipython3",
   "version": "3.7.3"
  }
 },
 "nbformat": 4,
 "nbformat_minor": 2
}
